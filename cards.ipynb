{
 "cells": [
  {
   "cell_type": "code",
   "execution_count": 2,
   "metadata": {},
   "outputs": [],
   "source": [
    "import pandas as pd\n",
    "import requests\n",
    "from bs4 import BeautifulSoup"
   ]
  },
  {
   "cell_type": "code",
   "execution_count": 3,
   "metadata": {},
   "outputs": [],
   "source": [
    "def process_for_url(text):  # still need to fix hyphen problem\n",
    "    ignore_capitalize = [\"of\",\"the\",\"in\"]\n",
    "    puctuation_without_hyphen = '!\"#$%&\\'()*+,./:;<=>?@[\\\\]^_`{|}~'\n",
    "    \n",
    "    text = text.casefold()\n",
    "    words =  text.split()\n",
    "    words = [word.lower() if word in ignore_capitalize or word.startswith('il-') else word.capitalize() for word in words]\n",
    "    join = str(words).translate(str.maketrans('', '', puctuation_without_hyphen))\n",
    "    join = hyphen_capitalize(join)\n",
    "\n",
    "    return join.replace(' ', '+')\n",
    "\n",
    "def hyphen_capitalize(text):\n",
    "\n",
    "    l = list(text)\n",
    "    \n",
    "    for idx, char in enumerate(l):\n",
    "        if char == '-':\n",
    "            l[idx + 1] = l[idx + 1].upper()\n",
    "            #l.remove(l[idx])\n",
    "\n",
    "    to_str = ''.join(l)\n",
    "\n",
    "    return to_str\n",
    "    \n",
    "\n",
    "def get_card_price(name,card_set):\n",
    "\n",
    "    url = f'https://www.mtggoldfish.com/price/{process_for_url(card_set)}/{process_for_url(name)}#online'\n",
    "    page = requests.get(url)\n",
    "    soup = BeautifulSoup(page.content, 'html.parser')\n",
    "    try:\n",
    "        price = soup.find_all('div')[11].find_all('div')[14]\n",
    "    except IndexError:\n",
    "        print(name,card_set,'something went wrong, next cell')\n",
    "        price = ['0']\n",
    "    price_num = [da_price.replace('\\xa0',' ').replace('$','') for da_price in price][0]\n",
    "  \n",
    "    return price_num\n",
    "\n",
    "\n",
    "    "
   ]
  },
  {
   "cell_type": "code",
   "execution_count": 4,
   "metadata": {},
   "outputs": [
    {
     "data": {
      "text/plain": [
       "Quantity    245.00\n",
       "Price       574.39\n",
       "my_value    643.69\n",
       "dtype: float64"
      ]
     },
     "execution_count": 4,
     "metadata": {},
     "output_type": "execute_result"
    }
   ],
   "source": [
    "card_df = pd.read_csv('Cards_Sheet2.csv')\n",
    "\n",
    "#card_df.applymap()\n",
    "card_df['Price'] = card_df.apply(lambda row: get_card_price(row.Title,row.Set),axis=1)\n",
    "card_df.Price = card_df.Price.astype(dtype=float)\n",
    "\n",
    "card_df['my_value'] = card_df.Quantity * card_df.Price\n",
    "\n",
    "card_df[['Quantity','Price','my_value']].sum()"
   ]
  },
  {
   "cell_type": "code",
   "execution_count": 5,
   "metadata": {},
   "outputs": [
    {
     "data": {
      "text/html": [
       "<div>\n",
       "<style scoped>\n",
       "    .dataframe tbody tr th:only-of-type {\n",
       "        vertical-align: middle;\n",
       "    }\n",
       "\n",
       "    .dataframe tbody tr th {\n",
       "        vertical-align: top;\n",
       "    }\n",
       "\n",
       "    .dataframe thead th {\n",
       "        text-align: right;\n",
       "    }\n",
       "</style>\n",
       "<table border=\"1\" class=\"dataframe\">\n",
       "  <thead>\n",
       "    <tr style=\"text-align: right;\">\n",
       "      <th></th>\n",
       "      <th>count</th>\n",
       "      <th>mean</th>\n",
       "      <th>std</th>\n",
       "      <th>min</th>\n",
       "      <th>25%</th>\n",
       "      <th>50%</th>\n",
       "      <th>75%</th>\n",
       "      <th>max</th>\n",
       "    </tr>\n",
       "  </thead>\n",
       "  <tbody>\n",
       "    <tr>\n",
       "      <th>Quantity</th>\n",
       "      <td>170.0</td>\n",
       "      <td>1.441176</td>\n",
       "      <td>0.768891</td>\n",
       "      <td>1.0</td>\n",
       "      <td>1.0000</td>\n",
       "      <td>1.000</td>\n",
       "      <td>2.000</td>\n",
       "      <td>4.0</td>\n",
       "    </tr>\n",
       "    <tr>\n",
       "      <th>Price</th>\n",
       "      <td>170.0</td>\n",
       "      <td>3.378765</td>\n",
       "      <td>12.644055</td>\n",
       "      <td>0.2</td>\n",
       "      <td>0.2600</td>\n",
       "      <td>0.375</td>\n",
       "      <td>1.745</td>\n",
       "      <td>150.0</td>\n",
       "    </tr>\n",
       "    <tr>\n",
       "      <th>my_value</th>\n",
       "      <td>170.0</td>\n",
       "      <td>3.786412</td>\n",
       "      <td>12.735812</td>\n",
       "      <td>0.2</td>\n",
       "      <td>0.3025</td>\n",
       "      <td>0.600</td>\n",
       "      <td>2.370</td>\n",
       "      <td>150.0</td>\n",
       "    </tr>\n",
       "  </tbody>\n",
       "</table>\n",
       "</div>"
      ],
      "text/plain": [
       "          count      mean        std  min     25%    50%    75%    max\n",
       "Quantity  170.0  1.441176   0.768891  1.0  1.0000  1.000  2.000    4.0\n",
       "Price     170.0  3.378765  12.644055  0.2  0.2600  0.375  1.745  150.0\n",
       "my_value  170.0  3.786412  12.735812  0.2  0.3025  0.600  2.370  150.0"
      ]
     },
     "execution_count": 5,
     "metadata": {},
     "output_type": "execute_result"
    }
   ],
   "source": [
    "card_df.describe().transpose()"
   ]
  },
  {
   "cell_type": "code",
   "execution_count": 6,
   "metadata": {},
   "outputs": [
    {
     "data": {
      "text/html": [
       "<div>\n",
       "<style scoped>\n",
       "    .dataframe tbody tr th:only-of-type {\n",
       "        vertical-align: middle;\n",
       "    }\n",
       "\n",
       "    .dataframe tbody tr th {\n",
       "        vertical-align: top;\n",
       "    }\n",
       "\n",
       "    .dataframe thead th {\n",
       "        text-align: right;\n",
       "    }\n",
       "</style>\n",
       "<table border=\"1\" class=\"dataframe\">\n",
       "  <thead>\n",
       "    <tr style=\"text-align: right;\">\n",
       "      <th></th>\n",
       "      <th>Title</th>\n",
       "      <th>Set</th>\n",
       "      <th>Quantity</th>\n",
       "      <th>Price</th>\n",
       "      <th>my_value</th>\n",
       "    </tr>\n",
       "  </thead>\n",
       "  <tbody>\n",
       "    <tr>\n",
       "      <th>43</th>\n",
       "      <td>metalworker</td>\n",
       "      <td>Urzas Destiny</td>\n",
       "      <td>1</td>\n",
       "      <td>150.00</td>\n",
       "      <td>150.00</td>\n",
       "    </tr>\n",
       "    <tr>\n",
       "      <th>112</th>\n",
       "      <td>argothian enchantress</td>\n",
       "      <td>Urzas Saga</td>\n",
       "      <td>1</td>\n",
       "      <td>39.49</td>\n",
       "      <td>39.49</td>\n",
       "    </tr>\n",
       "    <tr>\n",
       "      <th>130</th>\n",
       "      <td>lifeline</td>\n",
       "      <td>Urzas Saga</td>\n",
       "      <td>1</td>\n",
       "      <td>33.99</td>\n",
       "      <td>33.99</td>\n",
       "    </tr>\n",
       "    <tr>\n",
       "      <th>152</th>\n",
       "      <td>dream halls</td>\n",
       "      <td>Stronghold</td>\n",
       "      <td>1</td>\n",
       "      <td>28.63</td>\n",
       "      <td>28.63</td>\n",
       "    </tr>\n",
       "    <tr>\n",
       "      <th>54</th>\n",
       "      <td>repercussion</td>\n",
       "      <td>Urzas Destiny</td>\n",
       "      <td>1</td>\n",
       "      <td>20.75</td>\n",
       "      <td>20.75</td>\n",
       "    </tr>\n",
       "    <tr>\n",
       "      <th>...</th>\n",
       "      <td>...</td>\n",
       "      <td>...</td>\n",
       "      <td>...</td>\n",
       "      <td>...</td>\n",
       "      <td>...</td>\n",
       "    </tr>\n",
       "    <tr>\n",
       "      <th>168</th>\n",
       "      <td>wall of diffusion</td>\n",
       "      <td>Tempest</td>\n",
       "      <td>1</td>\n",
       "      <td>0.24</td>\n",
       "      <td>0.24</td>\n",
       "    </tr>\n",
       "    <tr>\n",
       "      <th>151</th>\n",
       "      <td>death stroke</td>\n",
       "      <td>Stronghold</td>\n",
       "      <td>1</td>\n",
       "      <td>0.24</td>\n",
       "      <td>0.24</td>\n",
       "    </tr>\n",
       "    <tr>\n",
       "      <th>159</th>\n",
       "      <td>enfeeblement</td>\n",
       "      <td>Tempest</td>\n",
       "      <td>3</td>\n",
       "      <td>0.23</td>\n",
       "      <td>0.69</td>\n",
       "    </tr>\n",
       "    <tr>\n",
       "      <th>105</th>\n",
       "      <td>divine offering</td>\n",
       "      <td>Mirage</td>\n",
       "      <td>1</td>\n",
       "      <td>0.23</td>\n",
       "      <td>0.23</td>\n",
       "    </tr>\n",
       "    <tr>\n",
       "      <th>146</th>\n",
       "      <td>cloud spirit</td>\n",
       "      <td>Stronghold</td>\n",
       "      <td>1</td>\n",
       "      <td>0.20</td>\n",
       "      <td>0.20</td>\n",
       "    </tr>\n",
       "  </tbody>\n",
       "</table>\n",
       "<p>170 rows × 5 columns</p>\n",
       "</div>"
      ],
      "text/plain": [
       "                     Title            Set  Quantity   Price  my_value\n",
       "43             metalworker  Urzas Destiny         1  150.00    150.00\n",
       "112  argothian enchantress     Urzas Saga         1   39.49     39.49\n",
       "130               lifeline     Urzas Saga         1   33.99     33.99\n",
       "152            dream halls     Stronghold         1   28.63     28.63\n",
       "54            repercussion  Urzas Destiny         1   20.75     20.75\n",
       "..                     ...            ...       ...     ...       ...\n",
       "168      wall of diffusion        Tempest         1    0.24      0.24\n",
       "151           death stroke     Stronghold         1    0.24      0.24\n",
       "159           enfeeblement        Tempest         3    0.23      0.69\n",
       "105        divine offering         Mirage         1    0.23      0.23\n",
       "146           cloud spirit     Stronghold         1    0.20      0.20\n",
       "\n",
       "[170 rows x 5 columns]"
      ]
     },
     "execution_count": 6,
     "metadata": {},
     "output_type": "execute_result"
    }
   ],
   "source": [
    "card_df.sort_values(by=['Price'],ascending=False)\n"
   ]
  },
  {
   "cell_type": "code",
   "execution_count": 7,
   "metadata": {},
   "outputs": [
    {
     "data": {
      "text/plain": [
       "Quantity    111.00\n",
       "Price        18.43\n",
       "my_value     29.56\n",
       "dtype: float64"
      ]
     },
     "execution_count": 7,
     "metadata": {},
     "output_type": "execute_result"
    }
   ],
   "source": [
    "card_df[card_df.columns[2:]] \\\n",
    "    .sort_values(by=['Price'],ascending=False)[100:] \\\n",
    "        .sum()\n"
   ]
  },
  {
   "cell_type": "code",
   "execution_count": 8,
   "metadata": {},
   "outputs": [
    {
     "data": {
      "text/html": [
       "<div>\n",
       "<style scoped>\n",
       "    .dataframe tbody tr th:only-of-type {\n",
       "        vertical-align: middle;\n",
       "    }\n",
       "\n",
       "    .dataframe tbody tr th {\n",
       "        vertical-align: top;\n",
       "    }\n",
       "\n",
       "    .dataframe thead th {\n",
       "        text-align: right;\n",
       "    }\n",
       "</style>\n",
       "<table border=\"1\" class=\"dataframe\">\n",
       "  <thead>\n",
       "    <tr style=\"text-align: right;\">\n",
       "      <th></th>\n",
       "      <th>Title</th>\n",
       "      <th>Set</th>\n",
       "      <th>Quantity</th>\n",
       "      <th>Price</th>\n",
       "      <th>my_value</th>\n",
       "    </tr>\n",
       "  </thead>\n",
       "  <tbody>\n",
       "    <tr>\n",
       "      <th>26</th>\n",
       "      <td>false prophet</td>\n",
       "      <td>Urzas Destiny</td>\n",
       "      <td>2</td>\n",
       "      <td>1.18</td>\n",
       "      <td>2.36</td>\n",
       "    </tr>\n",
       "    <tr>\n",
       "      <th>140</th>\n",
       "      <td>soul sculptor</td>\n",
       "      <td>Urzas Saga</td>\n",
       "      <td>4</td>\n",
       "      <td>1.13</td>\n",
       "      <td>4.52</td>\n",
       "    </tr>\n",
       "    <tr>\n",
       "      <th>33</th>\n",
       "      <td>goblin festival</td>\n",
       "      <td>Urzas Destiny</td>\n",
       "      <td>1</td>\n",
       "      <td>0.94</td>\n",
       "      <td>0.94</td>\n",
       "    </tr>\n",
       "    <tr>\n",
       "      <th>157</th>\n",
       "      <td>spike feeder</td>\n",
       "      <td>Stronghold</td>\n",
       "      <td>1</td>\n",
       "      <td>0.85</td>\n",
       "      <td>0.85</td>\n",
       "    </tr>\n",
       "    <tr>\n",
       "      <th>8</th>\n",
       "      <td>waiting in the weeds</td>\n",
       "      <td>Classic Sixth Edition</td>\n",
       "      <td>1</td>\n",
       "      <td>0.84</td>\n",
       "      <td>0.84</td>\n",
       "    </tr>\n",
       "    <tr>\n",
       "      <th>...</th>\n",
       "      <td>...</td>\n",
       "      <td>...</td>\n",
       "      <td>...</td>\n",
       "      <td>...</td>\n",
       "      <td>...</td>\n",
       "    </tr>\n",
       "    <tr>\n",
       "      <th>168</th>\n",
       "      <td>wall of diffusion</td>\n",
       "      <td>Tempest</td>\n",
       "      <td>1</td>\n",
       "      <td>0.24</td>\n",
       "      <td>0.24</td>\n",
       "    </tr>\n",
       "    <tr>\n",
       "      <th>151</th>\n",
       "      <td>death stroke</td>\n",
       "      <td>Stronghold</td>\n",
       "      <td>1</td>\n",
       "      <td>0.24</td>\n",
       "      <td>0.24</td>\n",
       "    </tr>\n",
       "    <tr>\n",
       "      <th>159</th>\n",
       "      <td>enfeeblement</td>\n",
       "      <td>Tempest</td>\n",
       "      <td>3</td>\n",
       "      <td>0.23</td>\n",
       "      <td>0.69</td>\n",
       "    </tr>\n",
       "    <tr>\n",
       "      <th>105</th>\n",
       "      <td>divine offering</td>\n",
       "      <td>Mirage</td>\n",
       "      <td>1</td>\n",
       "      <td>0.23</td>\n",
       "      <td>0.23</td>\n",
       "    </tr>\n",
       "    <tr>\n",
       "      <th>146</th>\n",
       "      <td>cloud spirit</td>\n",
       "      <td>Stronghold</td>\n",
       "      <td>1</td>\n",
       "      <td>0.20</td>\n",
       "      <td>0.20</td>\n",
       "    </tr>\n",
       "  </tbody>\n",
       "</table>\n",
       "<p>120 rows × 5 columns</p>\n",
       "</div>"
      ],
      "text/plain": [
       "                    Title                    Set  Quantity  Price  my_value\n",
       "26          false prophet          Urzas Destiny         2   1.18      2.36\n",
       "140         soul sculptor             Urzas Saga         4   1.13      4.52\n",
       "33        goblin festival          Urzas Destiny         1   0.94      0.94\n",
       "157          spike feeder             Stronghold         1   0.85      0.85\n",
       "8    waiting in the weeds  Classic Sixth Edition         1   0.84      0.84\n",
       "..                    ...                    ...       ...    ...       ...\n",
       "168     wall of diffusion                Tempest         1   0.24      0.24\n",
       "151          death stroke             Stronghold         1   0.24      0.24\n",
       "159          enfeeblement                Tempest         3   0.23      0.69\n",
       "105       divine offering                 Mirage         1   0.23      0.23\n",
       "146          cloud spirit             Stronghold         1   0.20      0.20\n",
       "\n",
       "[120 rows x 5 columns]"
      ]
     },
     "execution_count": 8,
     "metadata": {},
     "output_type": "execute_result"
    }
   ],
   "source": [
    "card_df.sort_values(by=['Price'],ascending=False)[50:]"
   ]
  },
  {
   "cell_type": "code",
   "execution_count": 9,
   "metadata": {},
   "outputs": [
    {
     "data": {
      "text/plain": [
       "Quantity    192.00\n",
       "Price        55.24\n",
       "my_value     80.76\n",
       "dtype: float64"
      ]
     },
     "execution_count": 9,
     "metadata": {},
     "output_type": "execute_result"
    }
   ],
   "source": [
    "card_df[card_df.columns[2:]].query('Price < 2.0').sum()"
   ]
  },
  {
   "cell_type": "code",
   "execution_count": 10,
   "metadata": {},
   "outputs": [
    {
     "data": {
      "text/html": [
       "<div>\n",
       "<style scoped>\n",
       "    .dataframe tbody tr th:only-of-type {\n",
       "        vertical-align: middle;\n",
       "    }\n",
       "\n",
       "    .dataframe tbody tr th {\n",
       "        vertical-align: top;\n",
       "    }\n",
       "\n",
       "    .dataframe thead th {\n",
       "        text-align: right;\n",
       "    }\n",
       "</style>\n",
       "<table border=\"1\" class=\"dataframe\">\n",
       "  <thead>\n",
       "    <tr style=\"text-align: right;\">\n",
       "      <th></th>\n",
       "      <th>Title</th>\n",
       "      <th>Set</th>\n",
       "      <th>Quantity</th>\n",
       "      <th>Price</th>\n",
       "      <th>my_value</th>\n",
       "    </tr>\n",
       "  </thead>\n",
       "  <tbody>\n",
       "    <tr>\n",
       "      <th>5</th>\n",
       "      <td>final fortune</td>\n",
       "      <td>Classic Sixth Edition</td>\n",
       "      <td>1</td>\n",
       "      <td>15.77</td>\n",
       "      <td>15.77</td>\n",
       "    </tr>\n",
       "    <tr>\n",
       "      <th>18</th>\n",
       "      <td>carnival of souls</td>\n",
       "      <td>Urzas Destiny</td>\n",
       "      <td>2</td>\n",
       "      <td>10.79</td>\n",
       "      <td>21.58</td>\n",
       "    </tr>\n",
       "    <tr>\n",
       "      <th>47</th>\n",
       "      <td>opalescence</td>\n",
       "      <td>Urzas Destiny</td>\n",
       "      <td>1</td>\n",
       "      <td>17.86</td>\n",
       "      <td>17.86</td>\n",
       "    </tr>\n",
       "    <tr>\n",
       "      <th>99</th>\n",
       "      <td>charisma</td>\n",
       "      <td>Mercadian Masques</td>\n",
       "      <td>1</td>\n",
       "      <td>14.99</td>\n",
       "      <td>14.99</td>\n",
       "    </tr>\n",
       "    <tr>\n",
       "      <th>113</th>\n",
       "      <td>barrin master wizard</td>\n",
       "      <td>Urzas Saga</td>\n",
       "      <td>1</td>\n",
       "      <td>17.88</td>\n",
       "      <td>17.88</td>\n",
       "    </tr>\n",
       "    <tr>\n",
       "      <th>138</th>\n",
       "      <td>Smokestack</td>\n",
       "      <td>Urzas Saga</td>\n",
       "      <td>1</td>\n",
       "      <td>13.31</td>\n",
       "      <td>13.31</td>\n",
       "    </tr>\n",
       "    <tr>\n",
       "      <th>166</th>\n",
       "      <td>time warp</td>\n",
       "      <td>Tempest</td>\n",
       "      <td>1</td>\n",
       "      <td>17.05</td>\n",
       "      <td>17.05</td>\n",
       "    </tr>\n",
       "  </tbody>\n",
       "</table>\n",
       "</div>"
      ],
      "text/plain": [
       "                    Title                    Set  Quantity  Price  my_value\n",
       "5           final fortune  Classic Sixth Edition         1  15.77     15.77\n",
       "18      carnival of souls          Urzas Destiny         2  10.79     21.58\n",
       "47            opalescence          Urzas Destiny         1  17.86     17.86\n",
       "99               charisma      Mercadian Masques         1  14.99     14.99\n",
       "113  barrin master wizard             Urzas Saga         1  17.88     17.88\n",
       "138            Smokestack             Urzas Saga         1  13.31     13.31\n",
       "166             time warp                Tempest         1  17.05     17.05"
      ]
     },
     "execution_count": 10,
     "metadata": {},
     "output_type": "execute_result"
    }
   ],
   "source": [
    "card_df.query('10 <= Price <= 20')"
   ]
  },
  {
   "cell_type": "code",
   "execution_count": 11,
   "metadata": {},
   "outputs": [],
   "source": [
    "from matplotlib import pyplot as plt"
   ]
  },
  {
   "cell_type": "code",
   "execution_count": 12,
   "metadata": {},
   "outputs": [
    {
     "data": {
      "image/png": "[encoded data removed]",
      "text/plain": [
       "<Figure size 432x288 with 1 Axes>"
      ]
     },
     "metadata": {
      "needs_background": "light"
     },
     "output_type": "display_data"
    }
   ],
   "source": [
    "plt.boxplot(card_df.Price.describe(), vert=False)\n",
    "plt.show()"
   ]
  },
  {
   "cell_type": "code",
   "execution_count": 13,
   "metadata": {},
   "outputs": [],
   "source": [
    "cheaps = card_df.Price <= 2\n",
    "mids = (card_df.Price >= 2) & (card_df.Price<150)\n",
    "spendy = card_df.Price >= 150\n",
    "\n",
    "num_cols = card_df.columns[2:]"
   ]
  },
  {
   "cell_type": "code",
   "execution_count": 27,
   "metadata": {},
   "outputs": [
    {
     "name": "stdout",
     "output_type": "stream",
     "text": [
      "cheaps: \n",
      "Quantity    192.00\n",
      "Price        55.24\n",
      "my_value     80.76\n",
      "dtype: float64 \n",
      "mids: \n",
      "Quantity     52.00\n",
      "Price       369.15\n",
      "my_value    412.93\n",
      "dtype: float64 \n",
      "highs: \n",
      "Quantity      1.0\n",
      "Price       150.0\n",
      "my_value    150.0\n",
      "dtype: float64\n"
     ]
    }
   ],
   "source": [
    "print(f'cheaps: \\n{card_df[num_cols][cheaps].sum()}', \\\n",
    "    '\\n'\n",
    "    f'mids: \\n{card_df[num_cols][mids].sum()}', \\\n",
    "        '\\n'\n",
    "        f'highs: \\n{card_df[num_cols][spendy].sum()}'\n",
    "        )"
   ]
  },
  {
   "cell_type": "code",
   "execution_count": 34,
   "metadata": {},
   "outputs": [],
   "source": [
    "def get_card_price2(name,card_set):\n",
    "\n",
    "    url = f'https://www.mtggoldfish.com/price/{process_for_url(card_set)}/{process_for_url(name)}#online'\n",
    "    page = requests.get(url)\n",
    "    soup = BeautifulSoup(page.content, 'html.parser')\n",
    "    try:\n",
    "        price = soup.find_all('div')[11].find_all('div')[14]\n",
    "        print(price, type(price))\n",
    "    except IndexError:\n",
    "        print(name,card_set,'something went wrong, next cell')\n",
    "        price = ['0']\n",
    "    # price_num = [da_price.replace('\\xa0',' ').replace('$','') for da_price in price][0]\n",
    "    return price[]\n"
   ]
  },
  {
   "cell_type": "code",
   "execution_count": 36,
   "metadata": {},
   "outputs": [
    {
     "name": "stdout",
     "output_type": "stream",
     "text": [
      "<div class=\"price-box-price\">$ 17.01</div> <class 'bs4.element.Tag'>\n"
     ]
    }
   ],
   "source": [
    "bim = get_card_price2('time warp', 'tempest')"
   ]
  },
  {
   "cell_type": "code",
   "execution_count": 37,
   "metadata": {},
   "outputs": [
    {
     "ename": "TypeError",
     "evalue": "get() missing 1 required positional argument: 'key'",
     "output_type": "error",
     "traceback": [
      "\u001b[0;31m---------------------------------------------------------------------------\u001b[0m",
      "\u001b[0;31mTypeError\u001b[0m                                 Traceback (most recent call last)",
      "\u001b[0;32m<ipython-input-37-d6a11eee8706>\u001b[0m in \u001b[0;36m<module>\u001b[0;34m\u001b[0m\n\u001b[0;32m----> 1\u001b[0;31m \u001b[0mbim\u001b[0m\u001b[0;34m.\u001b[0m\u001b[0mget\u001b[0m\u001b[0;34m(\u001b[0m\u001b[0;34m)\u001b[0m\u001b[0;34m\u001b[0m\u001b[0;34m\u001b[0m\u001b[0m\n\u001b[0m",
      "\u001b[0;31mTypeError\u001b[0m: get() missing 1 required positional argument: 'key'"
     ]
    }
   ],
   "source": [
    "bim.get()"
   ]
  },
  {
   "cell_type": "code",
   "execution_count": null,
   "metadata": {},
   "outputs": [],
   "source": []
  }
 ],
 "metadata": {
  "kernelspec": {
   "display_name": "base",
   "language": "python",
   "name": "python3"
  },
  "language_info": {
   "codemirror_mode": {
    "name": "ipython",
    "version": 3
   },
   "file_extension": ".py",
   "mimetype": "text/x-python",
   "name": "python",
   "nbconvert_exporter": "python",
   "pygments_lexer": "ipython3",
   "version": "3.8.8"
  },
  "orig_nbformat": 4,
  "vscode": {
   "interpreter": {
    "hash": "c7fbb5f735dc6d274722f17b5bb86411596983cea36ad17d6832d93ed45c1e9b"
   }
  }
 },
 "nbformat": 4,
 "nbformat_minor": 2
}
